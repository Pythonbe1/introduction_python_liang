{
 "cells": [
  {
   "cell_type": "markdown",
   "id": "e1b54ff3",
   "metadata": {},
   "source": [
    "# Chapter 1"
   ]
  },
  {
   "cell_type": "code",
   "execution_count": 43,
   "id": "4dc9d98f",
   "metadata": {},
   "outputs": [
    {
     "name": "stdout",
     "output_type": "stream",
     "text": [
      "FFFFFFF\n",
      "FF\n",
      "FFFFFFF\n",
      "FF\n",
      "FF\n"
     ]
    }
   ],
   "source": [
    "for row in range (5):\n",
    "    for column in range(7):\n",
    "        if ((row==0 or row==2) and (column>=0 and column<=6)):\n",
    "            print('F',end='')\n",
    "        elif ((column>=0 and column<=1)):\n",
    "            print('F',end='')\n",
    "    print() \n",
    "\n",
    "    "
   ]
  },
  {
   "cell_type": "code",
   "execution_count": 60,
   "id": "b69ccee9",
   "metadata": {},
   "outputs": [
    {
     "name": "stdout",
     "output_type": "stream",
     "text": [
      "3.140592653839794\n"
     ]
    }
   ],
   "source": [
    "n=1000\n",
    "sum=0\n",
    "for i in range(0,n):\n",
    "    sum+=4*(1/(2*i+1)*(-1)**i)\n",
    "print(sum)    "
   ]
  },
  {
   "cell_type": "code",
   "execution_count": 61,
   "id": "34b53692",
   "metadata": {},
   "outputs": [
    {
     "data": {
      "text/plain": [
       "325932970"
      ]
     },
     "execution_count": 61,
     "metadata": {},
     "output_type": "execute_result"
    }
   ],
   "source": [
    "312032486+5*365*24*60*60//7-5*365*24*60*60//13+5*365*24*60*60//45"
   ]
  },
  {
   "cell_type": "markdown",
   "id": "5ee5cba1",
   "metadata": {},
   "source": [
    "# Chapter 2"
   ]
  },
  {
   "cell_type": "code",
   "execution_count": 76,
   "id": "39e2f730",
   "metadata": {},
   "outputs": [
    {
     "name": "stdout",
     "output_type": "stream",
     "text": [
      "Enter the subtotal and a gratuity rate:15.69,15\n",
      "The gratuity is 2.3535 and the total is 18.04\n"
     ]
    }
   ],
   "source": [
    "#2.5\n",
    "print('Enter the subtotal and a gratuity rate: ',end='')\n",
    "subtotal,gratuity=eval(input())\n",
    "sum=round(subtotal*(1+gratuity/100),2)\n",
    "print(f'The gratuity is {subtotal*gratuity/100} and the total is {sum}')"
   ]
  },
  {
   "cell_type": "code",
   "execution_count": 105,
   "id": "1307edf9",
   "metadata": {},
   "outputs": [
    {
     "name": "stdout",
     "output_type": "stream",
     "text": [
      "Enter a number between 0 and 1000: 789\n",
      "78\n",
      "7\n",
      "0\n",
      "The sum of the digits is 24\n"
     ]
    }
   ],
   "source": [
    "#2.6\n",
    "print('Enter a number between 0 and 1000: ',end='')\n",
    "number=eval(input())\n",
    "sum=0\n",
    "for i in range(len(str(number))):    \n",
    "    f_digit=number%10\n",
    "    number=int(number/10)\n",
    "    sum+=f_digit\n",
    "print(f'The sum of the digits is {sum}')\n"
   ]
  },
  {
   "cell_type": "code",
   "execution_count": 88,
   "id": "0d5e20ec",
   "metadata": {},
   "outputs": [
    {
     "name": "stdout",
     "output_type": "stream",
     "text": [
      "Enter the number of minutes: 1000000000\n",
      "1000000000 minutes is approximately 1902 years and 214 days\n"
     ]
    }
   ],
   "source": [
    "#2.7\n",
    "print('Enter the number of minutes: ',end='')\n",
    "minutes=eval(input())\n",
    "total_days=minutes//(24*60)\n",
    "left_days=total_days%365\n",
    "year=total_days//365\n",
    "print(f'{minutes} minutes is approximately {year} years and {left_days} days')"
   ]
  },
  {
   "cell_type": "code",
   "execution_count": 118,
   "id": "f445cdde",
   "metadata": {},
   "outputs": [
    {
     "name": "stdout",
     "output_type": "stream",
     "text": [
      "Enter integer:  3125\n",
      "3\n",
      "1\n",
      "2\n",
      "5\n"
     ]
    }
   ],
   "source": [
    "#2.13\n",
    "result=[]\n",
    "print('Enter integer: ',end='')\n",
    "number=eval(input())\n",
    "for i in range(len(str(number))):\n",
    "    result.append(number%10)    \n",
    "    number=number//10\n",
    "result.reverse()\n",
    "for j in result:\n",
    "    print(j)"
   ]
  },
  {
   "cell_type": "markdown",
   "id": "9ccfcefe",
   "metadata": {},
   "source": [
    "# Chapter 3"
   ]
  },
  {
   "cell_type": "code",
   "execution_count": 121,
   "id": "dfc66f4a",
   "metadata": {},
   "outputs": [
    {
     "name": "stdout",
     "output_type": "stream",
     "text": [
      "Enter point 1 (latitude and longitude) in degrees: \n",
      "39.55, -116.25\n",
      "Enter point 2 (latitude and longitude) in degrees: \n",
      "41.5, 87.37\n",
      "The distance between the two points is 10691.79183231593 km\n"
     ]
    }
   ],
   "source": [
    "import math\n",
    "print('Enter point 1 (latitude and longitude) in degrees: ')\n",
    "x1,y1=eval(input())\n",
    "print('Enter point 2 (latitude and longitude) in degrees: ')\n",
    "x2,y2=eval(input())\n",
    "radius=6371.01\n",
    "d=radius*math.acos(math.sin(math.radians(x1))*math.sin(math.radians(x2))+math.cos(math.radians(x1))*math.cos(math.radians(x2))*math.cos(math.radians(y1-y2)))\n",
    "print(f'The distance between the two points is {d} km')"
   ]
  },
  {
   "cell_type": "markdown",
   "id": "417ff656",
   "metadata": {},
   "source": [
    "# Chapter 4"
   ]
  },
  {
   "cell_type": "code",
   "execution_count": 126,
   "id": "1794da90",
   "metadata": {},
   "outputs": [
    {
     "name": "stdout",
     "output_type": "stream",
     "text": [
      "Enter the sum of two numbers: 45\n",
      "You arer wrong. Try it again!\n"
     ]
    }
   ],
   "source": [
    "#4.4\n",
    "import random\n",
    "number1=random.randint(0,100)\n",
    "number2=random.randint(0,100)\n",
    "answer=eval(input('Enter the sum of two numbers: '))\n",
    "if answer==number1+number2:\n",
    "    print('You are right')\n",
    "else:\n",
    "    print('You arer wrong. Try it again!')"
   ]
  },
  {
   "cell_type": "code",
   "execution_count": 132,
   "id": "340b3402",
   "metadata": {},
   "outputs": [
    {
     "name": "stdout",
     "output_type": "stream",
     "text": [
      "Enter three numbers: 1,2,3\n",
      "3 2 1\n"
     ]
    }
   ],
   "source": [
    "#4.8\n",
    "num1,num2,num3=eval(input('Enter three numbers: '))\n",
    "if (num1 >= num2) and (num1 >= num3):\n",
    "   largest = num1\n",
    "elif (num2 >= num1) and (num2 >= num3):\n",
    "   largest = num2\n",
    "else:\n",
    "   largest = num3\n",
    "if (num1<=num2 and num1<=num3):\n",
    "    smallest = num1  \n",
    "elif (num2<=num1 and num2<=num3):\n",
    "    smallest = num2\n",
    "else:\n",
    "    smallest = num3\n",
    "middle = (num1 + num2 + num3) - largest - smallest\n",
    "print(largest,middle,smallest)\n",
    "    "
   ]
  },
  {
   "cell_type": "code",
   "execution_count": 178,
   "id": "81a10469",
   "metadata": {},
   "outputs": [
    {
     "name": "stdout",
     "output_type": "stream",
     "text": [
      "Enter number that consists of three digits: 465\n",
      "840\n",
      "you won 1 000$\n"
     ]
    }
   ],
   "source": [
    "import random\n",
    "lottery=random.randint(100,999)\n",
    "a=lottery\n",
    "lottery3=lottery%10\n",
    "lottery=lottery//10\n",
    "lottery2=lottery%10\n",
    "lottery=lottery//10\n",
    "lottery1=lottery%10\n",
    "lottery_list=[lottery1,lottery2,lottery3]\n",
    "number=eval(input('Enter number that consists of three digits: '))\n",
    "b=number\n",
    "print(a)\n",
    "if len(str(number))==3:\n",
    "    number3=lottery%10\n",
    "    number=number//10\n",
    "    number2=number%10\n",
    "    number=number//10\n",
    "    number1=number%10\n",
    "    number_list=[number1,number2,number3]\n",
    "    if b==a:\n",
    "        print('you won 10 000$')\n",
    "    elif set(lottery_list)==set(number_list):\n",
    "        print('you won 3 000$')\n",
    "    elif (number1==lottery1 \n",
    "          or number1==lottery2 \n",
    "          or number1==lottery3 \n",
    "          or number2==lottery1 \n",
    "          or number2==lottery2 \n",
    "          or number2==lottery3 \n",
    "          or number3==lottery1 \n",
    "          or number3==lottery2 \n",
    "          or number3==lottery3):\n",
    "        print('you won 1 000$')\n",
    "    else:\n",
    "        print('you lose') \n",
    "else:\n",
    "    print('You did not enter three digited number')"
   ]
  },
  {
   "cell_type": "markdown",
   "id": "b6cdb678",
   "metadata": {},
   "source": [
    "# Chapter 5"
   ]
  },
  {
   "cell_type": "code",
   "execution_count": 182,
   "id": "023480d6",
   "metadata": {},
   "outputs": [
    {
     "name": "stdout",
     "output_type": "stream",
     "text": [
      "Enter two number: 125,2525\n",
      "The greatest common divisor for 125 and 2525 is 25\n"
     ]
    }
   ],
   "source": [
    "num1,num2=eval(input('Enter two number: '))\n",
    "result=1\n",
    "k=2\n",
    "while num1>=k and num2>=k:\n",
    "    if num1%k==0 and num2%k==0:\n",
    "        result=k\n",
    "    k+=1\n",
    "print(f'The greatest common divisor for {num1} and {num2} is {result}')"
   ]
  },
  {
   "cell_type": "code",
   "execution_count": 187,
   "id": "6fe3257a",
   "metadata": {},
   "outputs": [
    {
     "name": "stdout",
     "output_type": "stream",
     "text": [
      "Enter number: 120\n",
      "2 3 4 5 6 8 10 12 15 20 24 30 40 60 120 "
     ]
    }
   ],
   "source": [
    "num=eval(input('Enter number: '))\n",
    "k=2\n",
    "while num>=k:\n",
    "    if num%k==0:\n",
    "        print(k,end=' ')    \n",
    "    k+=1"
   ]
  },
  {
   "cell_type": "code",
   "execution_count": 205,
   "id": "2c0ff8ac",
   "metadata": {},
   "outputs": [
    {
     "name": "stdout",
     "output_type": "stream",
     "text": [
      "Enter number of lines: 7\n",
      "\n",
      "1 \n",
      "1 2 \n",
      "1 2 3 \n",
      "1 2 3 4 \n",
      "1 2 3 4 5 \n",
      "1 2 3 4 5 6 \n",
      "1 2 3 4 5 6 7 \n"
     ]
    }
   ],
   "source": [
    "n=eval(input('Enter number of lines: '))\n",
    "for row in range(1,n+2):\n",
    "    for column in range(1,row):\n",
    "        print(column,end=' ')\n",
    "    print()"
   ]
  },
  {
   "cell_type": "code",
   "execution_count": 204,
   "id": "c1dec0c2",
   "metadata": {},
   "outputs": [
    {
     "name": "stdout",
     "output_type": "stream",
     "text": [
      "Enter rows: 7\n",
      "*\n",
      "**\n",
      "***\n",
      "****\n",
      "*****\n",
      "******\n"
     ]
    }
   ],
   "source": [
    "n=eval(input('Enter rows: '))\n",
    "for i in range(1,n):\n",
    "    print('*'*i)"
   ]
  },
  {
   "cell_type": "code",
   "execution_count": 206,
   "id": "bfc9e00e",
   "metadata": {},
   "outputs": [
    {
     "name": "stdout",
     "output_type": "stream",
     "text": [
      "Enter number of lines: 6\n",
      "\n",
      "1 \n",
      "1 2 \n",
      "1 2 3 \n",
      "1 2 3 4 \n",
      "1 2 3 4 5 \n",
      "1 2 3 4 5 6 \n"
     ]
    }
   ],
   "source": [
    "n=eval(input('Enter number of lines: '))\n",
    "for row in range(1,n+2):\n",
    "    for column in range(1,row):\n",
    "        print(column,end=' ')\n",
    "    print()"
   ]
  },
  {
   "cell_type": "code",
   "execution_count": 208,
   "id": "5b556ea8",
   "metadata": {},
   "outputs": [
    {
     "name": "stdout",
     "output_type": "stream",
     "text": [
      "Enter number of lines: 6\n",
      "1 2 3 4 5 6 \n",
      "1 2 3 4 5 \n",
      "1 2 3 4 \n",
      "1 2 3 \n",
      "1 2 \n",
      "1 \n"
     ]
    }
   ],
   "source": [
    "n=eval(input('Enter number of lines: '))\n",
    "for row in range(n+1,1,-1):\n",
    "    for column in range(1,row):\n",
    "        print(column,end=' ')\n",
    "    print()"
   ]
  },
  {
   "cell_type": "code",
   "execution_count": 218,
   "id": "c0712aa9",
   "metadata": {},
   "outputs": [
    {
     "name": "stdout",
     "output_type": "stream",
     "text": [
      "Enter number of lines: 7\n",
      "      1 \n",
      "     2 1 \n",
      "    3 2 1 \n",
      "   4 3 2 1 \n",
      "  5 4 3 2 1 \n",
      " 6 5 4 3 2 1 \n"
     ]
    }
   ],
   "source": [
    "n=eval(input('Enter number of lines: '))\n",
    "for row in range(1,n,1):\n",
    "    for column in range(n-row,0,-1):\n",
    "        print(end=' ')\n",
    "    for column in range(row,0,-1):\n",
    "        print(column,end=' ')\n",
    "    print()"
   ]
  },
  {
   "cell_type": "markdown",
   "id": "b48b485b",
   "metadata": {},
   "source": [
    "# Chaper 6"
   ]
  },
  {
   "cell_type": "code",
   "execution_count": 223,
   "id": "e1e3fe43",
   "metadata": {},
   "outputs": [
    {
     "name": "stdout",
     "output_type": "stream",
     "text": [
      "15\n"
     ]
    }
   ],
   "source": [
    "def sumDigits(n):\n",
    "    summation=0\n",
    "    for i in range(len(str(n))):\n",
    "        digit=n%10\n",
    "        n=n//10\n",
    "        summation+=digit\n",
    "    return summation\n",
    "print(sumDigits(456))"
   ]
  },
  {
   "cell_type": "code",
   "execution_count": 263,
   "id": "d2c2442c",
   "metadata": {},
   "outputs": [
    {
     "name": "stdout",
     "output_type": "stream",
     "text": [
      "True\n"
     ]
    }
   ],
   "source": [
    "def reverse(number):\n",
    "    result=[]\n",
    "    for i in range(len(str(number))):\n",
    "        result.append(number%10)\n",
    "        number=number//10\n",
    "    return int(''.join(map(str, result))) \n",
    "def isPalindrome(number):\n",
    "    first_part=[]\n",
    "    second_part=[]\n",
    "    all_number=[int(x) for x in str(number)]\n",
    "    first_part=all_number[:len(all_number)//2]\n",
    "    second_part=all_number[len(all_number)//2:]\n",
    "    a=int(''.join(map(str, second_part)))\n",
    "    c=int(''.join(map(str, first_part)))\n",
    "    b=reverse(a)\n",
    "    if b==c:\n",
    "        print(True)\n",
    "    else:\n",
    "        print(False)        \n",
    "isPalindrome(1221)"
   ]
  },
  {
   "cell_type": "code",
   "execution_count": 271,
   "id": "f703f76e",
   "metadata": {},
   "outputs": [
    {
     "name": "stdout",
     "output_type": "stream",
     "text": [
      "154:19:10\n"
     ]
    }
   ],
   "source": [
    "def convertMillis(milsec):\n",
    "    sec=milsec//1000\n",
    "    minute=sec//60\n",
    "    left_sec=sec%60\n",
    "    hour=minute//60\n",
    "    left_minute=minute%60\n",
    "    return f'{hour}:{left_minute}:{left_sec}'\n",
    "print(convertMillis(555550000))    "
   ]
  },
  {
   "cell_type": "code",
   "execution_count": null,
   "id": "27d94c65",
   "metadata": {},
   "outputs": [],
   "source": []
  }
 ],
 "metadata": {
  "kernelspec": {
   "display_name": "Python 3",
   "language": "python",
   "name": "python3"
  },
  "language_info": {
   "codemirror_mode": {
    "name": "ipython",
    "version": 3
   },
   "file_extension": ".py",
   "mimetype": "text/x-python",
   "name": "python",
   "nbconvert_exporter": "python",
   "pygments_lexer": "ipython3",
   "version": "3.8.8"
  }
 },
 "nbformat": 4,
 "nbformat_minor": 5
}
